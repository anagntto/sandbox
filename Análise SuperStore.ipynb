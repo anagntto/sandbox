{
 "cells": [
  {
   "cell_type": "code",
   "execution_count": 1,
   "id": "ccbca9c4",
   "metadata": {},
   "outputs": [],
   "source": [
    "# Análise exploratória de dados para estratégia de marketing"
   ]
  },
  {
   "cell_type": "markdown",
   "id": "009275e5",
   "metadata": {},
   "source": [
    "**Name:** Ana Gnoatto\n",
    "\n",
    "**Last Update:** 24/11/2023\n",
    "\n",
    "**Status:** *In progress ⏳*\n"
   ]
  },
  {
   "cell_type": "markdown",
   "id": "d81c0a34",
   "metadata": {},
   "source": [
    "## Contexto do problema"
   ]
  },
  {
   "cell_type": "markdown",
   "id": "ec8e0486",
   "metadata": {},
   "source": [
    "contexto"
   ]
  },
  {
   "cell_type": "markdown",
   "id": "e23190cf",
   "metadata": {},
   "source": [
    "## 0. Importando bibliotecas 📚"
   ]
  },
  {
   "cell_type": "code",
   "execution_count": 2,
   "id": "57c7dd6d",
   "metadata": {},
   "outputs": [],
   "source": [
    "import pandas as pd\n",
    "import matplotlib.pyplot as plt\n",
    "import math\n",
    "import seaborn as sns\n",
    "import plotly.express as pc\n",
    "\n",
    "import datetime\n",
    "import time\n",
    "from datetime import date\n",
    "from datetime import datetime, date, time\n",
    "\n",
    "%matplotlib inline\n",
    "\n",
    "import warnings\n",
    "warnings.filterwarnings('ignore')"
   ]
  },
  {
   "cell_type": "markdown",
   "id": "633f62f3",
   "metadata": {},
   "source": [
    "## 1. Importando os dados"
   ]
  },
  {
   "cell_type": "code",
   "execution_count": null,
   "id": "34c57436",
   "metadata": {},
   "outputs": [],
   "source": []
  },
  {
   "cell_type": "code",
   "execution_count": 3,
   "id": "4216bd53",
   "metadata": {},
   "outputs": [],
   "source": [
    "# abrindo o arquivo\n",
    "\n",
    "data_source = pd.read_csv('Sample - Superstore.csv', encoding = 'ISO-8859-1')"
   ]
  },
  {
   "cell_type": "code",
   "execution_count": 4,
   "id": "27c9b80a",
   "metadata": {},
   "outputs": [],
   "source": [
    "# criando uma copia para edição\n",
    "data=data_source.copy()"
   ]
  },
  {
   "cell_type": "markdown",
   "id": "4c7ee753",
   "metadata": {},
   "source": [
    "## 2. Explorando os dados (Sanity Check)"
   ]
  },
  {
   "cell_type": "code",
   "execution_count": 5,
   "id": "1c4cb570",
   "metadata": {},
   "outputs": [
    {
     "data": {
      "text/plain": [
       "(9994, 21)"
      ]
     },
     "execution_count": 5,
     "metadata": {},
     "output_type": "execute_result"
    }
   ],
   "source": [
    "# qual é o tamanho da tabela fonte em linhas e colunas?\n",
    "data.shape"
   ]
  },
  {
   "cell_type": "code",
   "execution_count": 6,
   "id": "2932c62b",
   "metadata": {},
   "outputs": [
    {
     "data": {
      "text/plain": [
       "Index(['Row ID', 'Order ID', 'Order Date', 'Ship Date', 'Ship Mode',\n",
       "       'Customer ID', 'Customer Name', 'Segment', 'Country', 'City', 'State',\n",
       "       'Postal Code', 'Region', 'Product ID', 'Category', 'Sub-Category',\n",
       "       'Product Name', 'Sales', 'Quantity', 'Discount', 'Profit'],\n",
       "      dtype='object')"
      ]
     },
     "execution_count": 6,
     "metadata": {},
     "output_type": "execute_result"
    }
   ],
   "source": [
    "# quais colunas são essas?\n",
    "data.columns"
   ]
  },
  {
   "cell_type": "code",
   "execution_count": 7,
   "id": "cb524c68",
   "metadata": {},
   "outputs": [
    {
     "data": {
      "text/plain": [
       "Row ID             int64\n",
       "Order ID          object\n",
       "Order Date        object\n",
       "Ship Date         object\n",
       "Ship Mode         object\n",
       "Customer ID       object\n",
       "Customer Name     object\n",
       "Segment           object\n",
       "Country           object\n",
       "City              object\n",
       "State             object\n",
       "Postal Code        int64\n",
       "Region            object\n",
       "Product ID        object\n",
       "Category          object\n",
       "Sub-Category      object\n",
       "Product Name      object\n",
       "Sales            float64\n",
       "Quantity           int64\n",
       "Discount         float64\n",
       "Profit           float64\n",
       "dtype: object"
      ]
     },
     "execution_count": 7,
     "metadata": {},
     "output_type": "execute_result"
    }
   ],
   "source": [
    "# conferindo formato das colunas\n",
    "data.dtypes"
   ]
  },
  {
   "cell_type": "code",
   "execution_count": 8,
   "id": "273c2cfd",
   "metadata": {},
   "outputs": [
    {
     "data": {
      "text/html": [
       "<div>\n",
       "<style scoped>\n",
       "    .dataframe tbody tr th:only-of-type {\n",
       "        vertical-align: middle;\n",
       "    }\n",
       "\n",
       "    .dataframe tbody tr th {\n",
       "        vertical-align: top;\n",
       "    }\n",
       "\n",
       "    .dataframe thead th {\n",
       "        text-align: right;\n",
       "    }\n",
       "</style>\n",
       "<table border=\"1\" class=\"dataframe\">\n",
       "  <thead>\n",
       "    <tr style=\"text-align: right;\">\n",
       "      <th></th>\n",
       "      <th>Row ID</th>\n",
       "      <th>Order ID</th>\n",
       "      <th>Order Date</th>\n",
       "      <th>Ship Date</th>\n",
       "      <th>Ship Mode</th>\n",
       "      <th>Customer ID</th>\n",
       "      <th>Customer Name</th>\n",
       "      <th>Segment</th>\n",
       "      <th>Country</th>\n",
       "      <th>City</th>\n",
       "      <th>...</th>\n",
       "      <th>Postal Code</th>\n",
       "      <th>Region</th>\n",
       "      <th>Product ID</th>\n",
       "      <th>Category</th>\n",
       "      <th>Sub-Category</th>\n",
       "      <th>Product Name</th>\n",
       "      <th>Sales</th>\n",
       "      <th>Quantity</th>\n",
       "      <th>Discount</th>\n",
       "      <th>Profit</th>\n",
       "    </tr>\n",
       "  </thead>\n",
       "  <tbody>\n",
       "  </tbody>\n",
       "</table>\n",
       "<p>0 rows × 21 columns</p>\n",
       "</div>"
      ],
      "text/plain": [
       "Empty DataFrame\n",
       "Columns: [Row ID, Order ID, Order Date, Ship Date, Ship Mode, Customer ID, Customer Name, Segment, Country, City, State, Postal Code, Region, Product ID, Category, Sub-Category, Product Name, Sales, Quantity, Discount, Profit]\n",
       "Index: []\n",
       "\n",
       "[0 rows x 21 columns]"
      ]
     },
     "execution_count": 8,
     "metadata": {},
     "output_type": "execute_result"
    }
   ],
   "source": [
    "# sanity check - checar se há valores nulos na coluna de Order ID\n",
    "data[data['Order ID'].isnull()]"
   ]
  },
  {
   "cell_type": "code",
   "execution_count": 9,
   "id": "b4ed3b2a",
   "metadata": {},
   "outputs": [
    {
     "data": {
      "text/plain": [
       "Row ID           0\n",
       "Order ID         0\n",
       "Order Date       0\n",
       "Ship Date        0\n",
       "Ship Mode        0\n",
       "Customer ID      0\n",
       "Customer Name    0\n",
       "Segment          0\n",
       "Country          0\n",
       "City             0\n",
       "State            0\n",
       "Postal Code      0\n",
       "Region           0\n",
       "Product ID       0\n",
       "Category         0\n",
       "Sub-Category     0\n",
       "Product Name     0\n",
       "Sales            0\n",
       "Quantity         0\n",
       "Discount         0\n",
       "Profit           0\n",
       "dtype: int64"
      ]
     },
     "execution_count": 9,
     "metadata": {},
     "output_type": "execute_result"
    }
   ],
   "source": [
    "# sanity check - checar se há valores nulos na tabela\n",
    "data.isnull().sum()"
   ]
  },
  {
   "cell_type": "code",
   "execution_count": 10,
   "id": "12abeab9",
   "metadata": {},
   "outputs": [
    {
     "data": {
      "text/html": [
       "<div>\n",
       "<style scoped>\n",
       "    .dataframe tbody tr th:only-of-type {\n",
       "        vertical-align: middle;\n",
       "    }\n",
       "\n",
       "    .dataframe tbody tr th {\n",
       "        vertical-align: top;\n",
       "    }\n",
       "\n",
       "    .dataframe thead th {\n",
       "        text-align: right;\n",
       "    }\n",
       "</style>\n",
       "<table border=\"1\" class=\"dataframe\">\n",
       "  <thead>\n",
       "    <tr style=\"text-align: right;\">\n",
       "      <th></th>\n",
       "      <th>Row ID</th>\n",
       "      <th>Postal Code</th>\n",
       "      <th>Sales</th>\n",
       "      <th>Quantity</th>\n",
       "      <th>Discount</th>\n",
       "      <th>Profit</th>\n",
       "    </tr>\n",
       "  </thead>\n",
       "  <tbody>\n",
       "    <tr>\n",
       "      <th>count</th>\n",
       "      <td>9994.000000</td>\n",
       "      <td>9994.000000</td>\n",
       "      <td>9994.000000</td>\n",
       "      <td>9994.000000</td>\n",
       "      <td>9994.000000</td>\n",
       "      <td>9994.000000</td>\n",
       "    </tr>\n",
       "    <tr>\n",
       "      <th>mean</th>\n",
       "      <td>4997.500000</td>\n",
       "      <td>55190.379428</td>\n",
       "      <td>229.858001</td>\n",
       "      <td>3.789574</td>\n",
       "      <td>0.156203</td>\n",
       "      <td>28.656896</td>\n",
       "    </tr>\n",
       "    <tr>\n",
       "      <th>std</th>\n",
       "      <td>2885.163629</td>\n",
       "      <td>32063.693350</td>\n",
       "      <td>623.245101</td>\n",
       "      <td>2.225110</td>\n",
       "      <td>0.206452</td>\n",
       "      <td>234.260108</td>\n",
       "    </tr>\n",
       "    <tr>\n",
       "      <th>min</th>\n",
       "      <td>1.000000</td>\n",
       "      <td>1040.000000</td>\n",
       "      <td>0.444000</td>\n",
       "      <td>1.000000</td>\n",
       "      <td>0.000000</td>\n",
       "      <td>-6599.978000</td>\n",
       "    </tr>\n",
       "    <tr>\n",
       "      <th>25%</th>\n",
       "      <td>2499.250000</td>\n",
       "      <td>23223.000000</td>\n",
       "      <td>17.280000</td>\n",
       "      <td>2.000000</td>\n",
       "      <td>0.000000</td>\n",
       "      <td>1.728750</td>\n",
       "    </tr>\n",
       "    <tr>\n",
       "      <th>50%</th>\n",
       "      <td>4997.500000</td>\n",
       "      <td>56430.500000</td>\n",
       "      <td>54.490000</td>\n",
       "      <td>3.000000</td>\n",
       "      <td>0.200000</td>\n",
       "      <td>8.666500</td>\n",
       "    </tr>\n",
       "    <tr>\n",
       "      <th>75%</th>\n",
       "      <td>7495.750000</td>\n",
       "      <td>90008.000000</td>\n",
       "      <td>209.940000</td>\n",
       "      <td>5.000000</td>\n",
       "      <td>0.200000</td>\n",
       "      <td>29.364000</td>\n",
       "    </tr>\n",
       "    <tr>\n",
       "      <th>max</th>\n",
       "      <td>9994.000000</td>\n",
       "      <td>99301.000000</td>\n",
       "      <td>22638.480000</td>\n",
       "      <td>14.000000</td>\n",
       "      <td>0.800000</td>\n",
       "      <td>8399.976000</td>\n",
       "    </tr>\n",
       "  </tbody>\n",
       "</table>\n",
       "</div>"
      ],
      "text/plain": [
       "            Row ID   Postal Code         Sales     Quantity     Discount  \\\n",
       "count  9994.000000   9994.000000   9994.000000  9994.000000  9994.000000   \n",
       "mean   4997.500000  55190.379428    229.858001     3.789574     0.156203   \n",
       "std    2885.163629  32063.693350    623.245101     2.225110     0.206452   \n",
       "min       1.000000   1040.000000      0.444000     1.000000     0.000000   \n",
       "25%    2499.250000  23223.000000     17.280000     2.000000     0.000000   \n",
       "50%    4997.500000  56430.500000     54.490000     3.000000     0.200000   \n",
       "75%    7495.750000  90008.000000    209.940000     5.000000     0.200000   \n",
       "max    9994.000000  99301.000000  22638.480000    14.000000     0.800000   \n",
       "\n",
       "            Profit  \n",
       "count  9994.000000  \n",
       "mean     28.656896  \n",
       "std     234.260108  \n",
       "min   -6599.978000  \n",
       "25%       1.728750  \n",
       "50%       8.666500  \n",
       "75%      29.364000  \n",
       "max    8399.976000  "
      ]
     },
     "execution_count": 10,
     "metadata": {},
     "output_type": "execute_result"
    }
   ],
   "source": [
    "# sanity check - checar se há valores fazem sentido no ponto de vista do negócio\n",
    "data.describe()"
   ]
  },
  {
   "cell_type": "markdown",
   "id": "6c207bdb",
   "metadata": {},
   "source": [
    "Irregularidades encontradas:\n",
    "\n",
    "a. Valor mínimo de lucro(Profit) negativo e alto\n",
    "\n",
    "b. Valor mínimo de venda(Sales) baixo em 0.44\n",
    "\n",
    "c. Alto Gap entre valor maximo de Sales e 75%. Média também não condiz com o percentil 50%. Analisar o percentil 90% que pode \n",
    "estar puxando a média para cima e descobrir quais vendas ou produtos são esses.\n",
    "\n",
    "d. Desconto (Discount) máximo relativamente alto em 80%, quais são esses casos? "
   ]
  },
  {
   "cell_type": "code",
   "execution_count": 11,
   "id": "b48f8351",
   "metadata": {},
   "outputs": [
    {
     "data": {
      "text/html": [
       "<div>\n",
       "<style scoped>\n",
       "    .dataframe tbody tr th:only-of-type {\n",
       "        vertical-align: middle;\n",
       "    }\n",
       "\n",
       "    .dataframe tbody tr th {\n",
       "        vertical-align: top;\n",
       "    }\n",
       "\n",
       "    .dataframe thead th {\n",
       "        text-align: right;\n",
       "    }\n",
       "</style>\n",
       "<table border=\"1\" class=\"dataframe\">\n",
       "  <thead>\n",
       "    <tr style=\"text-align: right;\">\n",
       "      <th></th>\n",
       "      <th>Row ID</th>\n",
       "      <th>Order ID</th>\n",
       "      <th>Order Date</th>\n",
       "      <th>Ship Date</th>\n",
       "      <th>Ship Mode</th>\n",
       "      <th>Customer ID</th>\n",
       "      <th>Customer Name</th>\n",
       "      <th>Segment</th>\n",
       "      <th>Country</th>\n",
       "      <th>City</th>\n",
       "      <th>...</th>\n",
       "      <th>Postal Code</th>\n",
       "      <th>Region</th>\n",
       "      <th>Product ID</th>\n",
       "      <th>Category</th>\n",
       "      <th>Sub-Category</th>\n",
       "      <th>Product Name</th>\n",
       "      <th>Sales</th>\n",
       "      <th>Quantity</th>\n",
       "      <th>Discount</th>\n",
       "      <th>Profit</th>\n",
       "    </tr>\n",
       "  </thead>\n",
       "  <tbody>\n",
       "    <tr>\n",
       "      <th>7772</th>\n",
       "      <td>7773</td>\n",
       "      <td>CA-2016-108196</td>\n",
       "      <td>11/25/2016</td>\n",
       "      <td>12/2/2016</td>\n",
       "      <td>Standard Class</td>\n",
       "      <td>CS-12505</td>\n",
       "      <td>Cindy Stewart</td>\n",
       "      <td>Consumer</td>\n",
       "      <td>United States</td>\n",
       "      <td>Lancaster</td>\n",
       "      <td>...</td>\n",
       "      <td>43130</td>\n",
       "      <td>East</td>\n",
       "      <td>TEC-MA-10000418</td>\n",
       "      <td>Technology</td>\n",
       "      <td>Machines</td>\n",
       "      <td>Cubify CubeX 3D Printer Double Head Print</td>\n",
       "      <td>4499.985</td>\n",
       "      <td>5</td>\n",
       "      <td>0.7</td>\n",
       "      <td>-6599.978</td>\n",
       "    </tr>\n",
       "  </tbody>\n",
       "</table>\n",
       "<p>1 rows × 21 columns</p>\n",
       "</div>"
      ],
      "text/plain": [
       "      Row ID        Order ID  Order Date  Ship Date       Ship Mode  \\\n",
       "7772    7773  CA-2016-108196  11/25/2016  12/2/2016  Standard Class   \n",
       "\n",
       "     Customer ID  Customer Name   Segment        Country       City  ...  \\\n",
       "7772    CS-12505  Cindy Stewart  Consumer  United States  Lancaster  ...   \n",
       "\n",
       "     Postal Code  Region       Product ID    Category Sub-Category  \\\n",
       "7772       43130    East  TEC-MA-10000418  Technology     Machines   \n",
       "\n",
       "                                   Product Name     Sales  Quantity  Discount  \\\n",
       "7772  Cubify CubeX 3D Printer Double Head Print  4499.985         5       0.7   \n",
       "\n",
       "        Profit  \n",
       "7772 -6599.978  \n",
       "\n",
       "[1 rows x 21 columns]"
      ]
     },
     "execution_count": 11,
     "metadata": {},
     "output_type": "execute_result"
    }
   ],
   "source": [
    "# a. Valor mínimo de lucro(Profit) negativo e alto\n",
    "data[data['Profit']==data['Profit'].min()]"
   ]
  },
  {
   "cell_type": "code",
   "execution_count": 12,
   "id": "5f997aeb",
   "metadata": {},
   "outputs": [
    {
     "data": {
      "text/html": [
       "<div>\n",
       "<style scoped>\n",
       "    .dataframe tbody tr th:only-of-type {\n",
       "        vertical-align: middle;\n",
       "    }\n",
       "\n",
       "    .dataframe tbody tr th {\n",
       "        vertical-align: top;\n",
       "    }\n",
       "\n",
       "    .dataframe thead th {\n",
       "        text-align: right;\n",
       "    }\n",
       "</style>\n",
       "<table border=\"1\" class=\"dataframe\">\n",
       "  <thead>\n",
       "    <tr style=\"text-align: right;\">\n",
       "      <th></th>\n",
       "      <th>Row ID</th>\n",
       "      <th>Order ID</th>\n",
       "      <th>Order Date</th>\n",
       "      <th>Ship Date</th>\n",
       "      <th>Ship Mode</th>\n",
       "      <th>Customer ID</th>\n",
       "      <th>Customer Name</th>\n",
       "      <th>Segment</th>\n",
       "      <th>Country</th>\n",
       "      <th>City</th>\n",
       "      <th>...</th>\n",
       "      <th>Postal Code</th>\n",
       "      <th>Region</th>\n",
       "      <th>Product ID</th>\n",
       "      <th>Category</th>\n",
       "      <th>Sub-Category</th>\n",
       "      <th>Product Name</th>\n",
       "      <th>Sales</th>\n",
       "      <th>Quantity</th>\n",
       "      <th>Discount</th>\n",
       "      <th>Profit</th>\n",
       "    </tr>\n",
       "  </thead>\n",
       "  <tbody>\n",
       "    <tr>\n",
       "      <th>4101</th>\n",
       "      <td>4102</td>\n",
       "      <td>US-2017-102288</td>\n",
       "      <td>6/19/2017</td>\n",
       "      <td>6/23/2017</td>\n",
       "      <td>Standard Class</td>\n",
       "      <td>ZC-21910</td>\n",
       "      <td>Zuschuss Carroll</td>\n",
       "      <td>Consumer</td>\n",
       "      <td>United States</td>\n",
       "      <td>Houston</td>\n",
       "      <td>...</td>\n",
       "      <td>77095</td>\n",
       "      <td>Central</td>\n",
       "      <td>OFF-AP-10002906</td>\n",
       "      <td>Office Supplies</td>\n",
       "      <td>Appliances</td>\n",
       "      <td>Hoover Replacement Belt for Commercial Guardsm...</td>\n",
       "      <td>0.444</td>\n",
       "      <td>1</td>\n",
       "      <td>0.8</td>\n",
       "      <td>-1.11</td>\n",
       "    </tr>\n",
       "  </tbody>\n",
       "</table>\n",
       "<p>1 rows × 21 columns</p>\n",
       "</div>"
      ],
      "text/plain": [
       "      Row ID        Order ID Order Date  Ship Date       Ship Mode  \\\n",
       "4101    4102  US-2017-102288  6/19/2017  6/23/2017  Standard Class   \n",
       "\n",
       "     Customer ID     Customer Name   Segment        Country     City  ...  \\\n",
       "4101    ZC-21910  Zuschuss Carroll  Consumer  United States  Houston  ...   \n",
       "\n",
       "     Postal Code   Region       Product ID         Category Sub-Category  \\\n",
       "4101       77095  Central  OFF-AP-10002906  Office Supplies   Appliances   \n",
       "\n",
       "                                           Product Name  Sales  Quantity  \\\n",
       "4101  Hoover Replacement Belt for Commercial Guardsm...  0.444         1   \n",
       "\n",
       "      Discount  Profit  \n",
       "4101       0.8   -1.11  \n",
       "\n",
       "[1 rows x 21 columns]"
      ]
     },
     "execution_count": 12,
     "metadata": {},
     "output_type": "execute_result"
    }
   ],
   "source": [
    "# b. Valor mínimo de venda(Sales) baixo em 0.44\n",
    "data[data['Sales']==data['Sales'].min()]"
   ]
  },
  {
   "cell_type": "code",
   "execution_count": 13,
   "id": "3bc0332d",
   "metadata": {},
   "outputs": [
    {
     "data": {
      "text/plain": [
       "1325.7788999999998"
      ]
     },
     "execution_count": 13,
     "metadata": {},
     "output_type": "execute_result"
    }
   ],
   "source": [
    "# c. Alto Gap entre valor maximo de Sales e 75%. Média também não condiz com o percentil 50%. Analisar o percentil 90%.\n",
    "\n",
    "data['Sales'].quantile(0.97)\n",
    "\n",
    "# Foi constatado que 97% é o grupo que mais se aproxima do valor máximo."
   ]
  },
  {
   "cell_type": "code",
   "execution_count": 14,
   "id": "d5605198",
   "metadata": {},
   "outputs": [
    {
     "data": {
      "text/html": [
       "<div>\n",
       "<style scoped>\n",
       "    .dataframe tbody tr th:only-of-type {\n",
       "        vertical-align: middle;\n",
       "    }\n",
       "\n",
       "    .dataframe tbody tr th {\n",
       "        vertical-align: top;\n",
       "    }\n",
       "\n",
       "    .dataframe thead th {\n",
       "        text-align: right;\n",
       "    }\n",
       "</style>\n",
       "<table border=\"1\" class=\"dataframe\">\n",
       "  <thead>\n",
       "    <tr style=\"text-align: right;\">\n",
       "      <th></th>\n",
       "      <th>Row ID</th>\n",
       "      <th>Order ID</th>\n",
       "      <th>Order Date</th>\n",
       "      <th>Ship Date</th>\n",
       "      <th>Ship Mode</th>\n",
       "      <th>Customer ID</th>\n",
       "      <th>Customer Name</th>\n",
       "      <th>Segment</th>\n",
       "      <th>Country</th>\n",
       "      <th>City</th>\n",
       "      <th>...</th>\n",
       "      <th>Postal Code</th>\n",
       "      <th>Region</th>\n",
       "      <th>Product ID</th>\n",
       "      <th>Category</th>\n",
       "      <th>Sub-Category</th>\n",
       "      <th>Product Name</th>\n",
       "      <th>Sales</th>\n",
       "      <th>Quantity</th>\n",
       "      <th>Discount</th>\n",
       "      <th>Profit</th>\n",
       "    </tr>\n",
       "  </thead>\n",
       "  <tbody>\n",
       "    <tr>\n",
       "      <th>2697</th>\n",
       "      <td>2698</td>\n",
       "      <td>CA-2014-145317</td>\n",
       "      <td>3/18/2014</td>\n",
       "      <td>3/23/2014</td>\n",
       "      <td>Standard Class</td>\n",
       "      <td>SM-20320</td>\n",
       "      <td>Sean Miller</td>\n",
       "      <td>Home Office</td>\n",
       "      <td>United States</td>\n",
       "      <td>Jacksonville</td>\n",
       "      <td>...</td>\n",
       "      <td>32216</td>\n",
       "      <td>South</td>\n",
       "      <td>TEC-MA-10002412</td>\n",
       "      <td>Technology</td>\n",
       "      <td>Machines</td>\n",
       "      <td>Cisco TelePresence System EX90 Videoconferenci...</td>\n",
       "      <td>22638.480</td>\n",
       "      <td>6</td>\n",
       "      <td>0.5</td>\n",
       "      <td>-1811.0784</td>\n",
       "    </tr>\n",
       "    <tr>\n",
       "      <th>6826</th>\n",
       "      <td>6827</td>\n",
       "      <td>CA-2016-118689</td>\n",
       "      <td>10/2/2016</td>\n",
       "      <td>10/9/2016</td>\n",
       "      <td>Standard Class</td>\n",
       "      <td>TC-20980</td>\n",
       "      <td>Tamara Chand</td>\n",
       "      <td>Corporate</td>\n",
       "      <td>United States</td>\n",
       "      <td>Lafayette</td>\n",
       "      <td>...</td>\n",
       "      <td>47905</td>\n",
       "      <td>Central</td>\n",
       "      <td>TEC-CO-10004722</td>\n",
       "      <td>Technology</td>\n",
       "      <td>Copiers</td>\n",
       "      <td>Canon imageCLASS 2200 Advanced Copier</td>\n",
       "      <td>17499.950</td>\n",
       "      <td>5</td>\n",
       "      <td>0.0</td>\n",
       "      <td>8399.9760</td>\n",
       "    </tr>\n",
       "    <tr>\n",
       "      <th>8153</th>\n",
       "      <td>8154</td>\n",
       "      <td>CA-2017-140151</td>\n",
       "      <td>3/23/2017</td>\n",
       "      <td>3/25/2017</td>\n",
       "      <td>First Class</td>\n",
       "      <td>RB-19360</td>\n",
       "      <td>Raymond Buch</td>\n",
       "      <td>Consumer</td>\n",
       "      <td>United States</td>\n",
       "      <td>Seattle</td>\n",
       "      <td>...</td>\n",
       "      <td>98115</td>\n",
       "      <td>West</td>\n",
       "      <td>TEC-CO-10004722</td>\n",
       "      <td>Technology</td>\n",
       "      <td>Copiers</td>\n",
       "      <td>Canon imageCLASS 2200 Advanced Copier</td>\n",
       "      <td>13999.960</td>\n",
       "      <td>4</td>\n",
       "      <td>0.0</td>\n",
       "      <td>6719.9808</td>\n",
       "    </tr>\n",
       "    <tr>\n",
       "      <th>2623</th>\n",
       "      <td>2624</td>\n",
       "      <td>CA-2017-127180</td>\n",
       "      <td>10/22/2017</td>\n",
       "      <td>10/24/2017</td>\n",
       "      <td>First Class</td>\n",
       "      <td>TA-21385</td>\n",
       "      <td>Tom Ashbrook</td>\n",
       "      <td>Home Office</td>\n",
       "      <td>United States</td>\n",
       "      <td>New York City</td>\n",
       "      <td>...</td>\n",
       "      <td>10024</td>\n",
       "      <td>East</td>\n",
       "      <td>TEC-CO-10004722</td>\n",
       "      <td>Technology</td>\n",
       "      <td>Copiers</td>\n",
       "      <td>Canon imageCLASS 2200 Advanced Copier</td>\n",
       "      <td>11199.968</td>\n",
       "      <td>4</td>\n",
       "      <td>0.2</td>\n",
       "      <td>3919.9888</td>\n",
       "    </tr>\n",
       "    <tr>\n",
       "      <th>4190</th>\n",
       "      <td>4191</td>\n",
       "      <td>CA-2017-166709</td>\n",
       "      <td>11/17/2017</td>\n",
       "      <td>11/22/2017</td>\n",
       "      <td>Standard Class</td>\n",
       "      <td>HL-15040</td>\n",
       "      <td>Hunter Lopez</td>\n",
       "      <td>Consumer</td>\n",
       "      <td>United States</td>\n",
       "      <td>Newark</td>\n",
       "      <td>...</td>\n",
       "      <td>19711</td>\n",
       "      <td>East</td>\n",
       "      <td>TEC-CO-10004722</td>\n",
       "      <td>Technology</td>\n",
       "      <td>Copiers</td>\n",
       "      <td>Canon imageCLASS 2200 Advanced Copier</td>\n",
       "      <td>10499.970</td>\n",
       "      <td>3</td>\n",
       "      <td>0.0</td>\n",
       "      <td>5039.9856</td>\n",
       "    </tr>\n",
       "  </tbody>\n",
       "</table>\n",
       "<p>5 rows × 21 columns</p>\n",
       "</div>"
      ],
      "text/plain": [
       "      Row ID        Order ID  Order Date   Ship Date       Ship Mode  \\\n",
       "2697    2698  CA-2014-145317   3/18/2014   3/23/2014  Standard Class   \n",
       "6826    6827  CA-2016-118689   10/2/2016   10/9/2016  Standard Class   \n",
       "8153    8154  CA-2017-140151   3/23/2017   3/25/2017     First Class   \n",
       "2623    2624  CA-2017-127180  10/22/2017  10/24/2017     First Class   \n",
       "4190    4191  CA-2017-166709  11/17/2017  11/22/2017  Standard Class   \n",
       "\n",
       "     Customer ID Customer Name      Segment        Country           City  \\\n",
       "2697    SM-20320   Sean Miller  Home Office  United States   Jacksonville   \n",
       "6826    TC-20980  Tamara Chand    Corporate  United States      Lafayette   \n",
       "8153    RB-19360  Raymond Buch     Consumer  United States        Seattle   \n",
       "2623    TA-21385  Tom Ashbrook  Home Office  United States  New York City   \n",
       "4190    HL-15040  Hunter Lopez     Consumer  United States         Newark   \n",
       "\n",
       "      ... Postal Code   Region       Product ID    Category Sub-Category  \\\n",
       "2697  ...       32216    South  TEC-MA-10002412  Technology     Machines   \n",
       "6826  ...       47905  Central  TEC-CO-10004722  Technology      Copiers   \n",
       "8153  ...       98115     West  TEC-CO-10004722  Technology      Copiers   \n",
       "2623  ...       10024     East  TEC-CO-10004722  Technology      Copiers   \n",
       "4190  ...       19711     East  TEC-CO-10004722  Technology      Copiers   \n",
       "\n",
       "                                           Product Name      Sales  Quantity  \\\n",
       "2697  Cisco TelePresence System EX90 Videoconferenci...  22638.480         6   \n",
       "6826              Canon imageCLASS 2200 Advanced Copier  17499.950         5   \n",
       "8153              Canon imageCLASS 2200 Advanced Copier  13999.960         4   \n",
       "2623              Canon imageCLASS 2200 Advanced Copier  11199.968         4   \n",
       "4190              Canon imageCLASS 2200 Advanced Copier  10499.970         3   \n",
       "\n",
       "      Discount     Profit  \n",
       "2697       0.5 -1811.0784  \n",
       "6826       0.0  8399.9760  \n",
       "8153       0.0  6719.9808  \n",
       "2623       0.2  3919.9888  \n",
       "4190       0.0  5039.9856  \n",
       "\n",
       "[5 rows x 21 columns]"
      ]
     },
     "execution_count": 14,
     "metadata": {},
     "output_type": "execute_result"
    }
   ],
   "source": [
    "data[data['Sales']>=data['Sales'].quantile(0.97)].sort_values('Sales', ascending=False).head()"
   ]
  },
  {
   "cell_type": "code",
   "execution_count": 15,
   "id": "932a5e2c",
   "metadata": {},
   "outputs": [
    {
     "data": {
      "text/html": [
       "<div>\n",
       "<style scoped>\n",
       "    .dataframe tbody tr th:only-of-type {\n",
       "        vertical-align: middle;\n",
       "    }\n",
       "\n",
       "    .dataframe tbody tr th {\n",
       "        vertical-align: top;\n",
       "    }\n",
       "\n",
       "    .dataframe thead th {\n",
       "        text-align: right;\n",
       "    }\n",
       "</style>\n",
       "<table border=\"1\" class=\"dataframe\">\n",
       "  <thead>\n",
       "    <tr style=\"text-align: right;\">\n",
       "      <th></th>\n",
       "      <th>Row ID</th>\n",
       "      <th>Order ID</th>\n",
       "      <th>Order Date</th>\n",
       "      <th>Ship Date</th>\n",
       "      <th>Ship Mode</th>\n",
       "      <th>Customer ID</th>\n",
       "      <th>Customer Name</th>\n",
       "      <th>Segment</th>\n",
       "      <th>Country</th>\n",
       "      <th>City</th>\n",
       "      <th>...</th>\n",
       "      <th>Postal Code</th>\n",
       "      <th>Region</th>\n",
       "      <th>Product ID</th>\n",
       "      <th>Category</th>\n",
       "      <th>Sub-Category</th>\n",
       "      <th>Product Name</th>\n",
       "      <th>Sales</th>\n",
       "      <th>Quantity</th>\n",
       "      <th>Discount</th>\n",
       "      <th>Profit</th>\n",
       "    </tr>\n",
       "  </thead>\n",
       "  <tbody>\n",
       "    <tr>\n",
       "      <th>8220</th>\n",
       "      <td>8221</td>\n",
       "      <td>CA-2014-120775</td>\n",
       "      <td>10/3/2014</td>\n",
       "      <td>10/7/2014</td>\n",
       "      <td>Standard Class</td>\n",
       "      <td>RD-19930</td>\n",
       "      <td>Russell D'Ascenzo</td>\n",
       "      <td>Consumer</td>\n",
       "      <td>United States</td>\n",
       "      <td>Dallas</td>\n",
       "      <td>...</td>\n",
       "      <td>75217</td>\n",
       "      <td>Central</td>\n",
       "      <td>OFF-BI-10002609</td>\n",
       "      <td>Office Supplies</td>\n",
       "      <td>Binders</td>\n",
       "      <td>Avery Hidden Tab Dividers for Binding Systems</td>\n",
       "      <td>1.788</td>\n",
       "      <td>3</td>\n",
       "      <td>0.8</td>\n",
       "      <td>-3.0396</td>\n",
       "    </tr>\n",
       "    <tr>\n",
       "      <th>8965</th>\n",
       "      <td>8966</td>\n",
       "      <td>CA-2017-106691</td>\n",
       "      <td>11/6/2017</td>\n",
       "      <td>11/12/2017</td>\n",
       "      <td>Standard Class</td>\n",
       "      <td>CC-12370</td>\n",
       "      <td>Christopher Conant</td>\n",
       "      <td>Consumer</td>\n",
       "      <td>United States</td>\n",
       "      <td>Houston</td>\n",
       "      <td>...</td>\n",
       "      <td>77070</td>\n",
       "      <td>Central</td>\n",
       "      <td>OFF-BI-10000145</td>\n",
       "      <td>Office Supplies</td>\n",
       "      <td>Binders</td>\n",
       "      <td>Zipper Ring Binder Pockets</td>\n",
       "      <td>1.248</td>\n",
       "      <td>2</td>\n",
       "      <td>0.8</td>\n",
       "      <td>-1.9344</td>\n",
       "    </tr>\n",
       "    <tr>\n",
       "      <th>1103</th>\n",
       "      <td>1104</td>\n",
       "      <td>US-2017-145863</td>\n",
       "      <td>4/21/2017</td>\n",
       "      <td>4/27/2017</td>\n",
       "      <td>Standard Class</td>\n",
       "      <td>RP-19390</td>\n",
       "      <td>Resi Pölking</td>\n",
       "      <td>Consumer</td>\n",
       "      <td>United States</td>\n",
       "      <td>Houston</td>\n",
       "      <td>...</td>\n",
       "      <td>77041</td>\n",
       "      <td>Central</td>\n",
       "      <td>OFF-BI-10002049</td>\n",
       "      <td>Office Supplies</td>\n",
       "      <td>Binders</td>\n",
       "      <td>UniKeep View Case Binders</td>\n",
       "      <td>2.934</td>\n",
       "      <td>3</td>\n",
       "      <td>0.8</td>\n",
       "      <td>-4.9878</td>\n",
       "    </tr>\n",
       "    <tr>\n",
       "      <th>4568</th>\n",
       "      <td>4569</td>\n",
       "      <td>CA-2015-111990</td>\n",
       "      <td>11/8/2015</td>\n",
       "      <td>11/13/2015</td>\n",
       "      <td>Standard Class</td>\n",
       "      <td>DB-13660</td>\n",
       "      <td>Duane Benoit</td>\n",
       "      <td>Consumer</td>\n",
       "      <td>United States</td>\n",
       "      <td>Houston</td>\n",
       "      <td>...</td>\n",
       "      <td>77095</td>\n",
       "      <td>Central</td>\n",
       "      <td>OFF-BI-10003291</td>\n",
       "      <td>Office Supplies</td>\n",
       "      <td>Binders</td>\n",
       "      <td>Wilson Jones Leather-Like Binders with DublLoc...</td>\n",
       "      <td>10.476</td>\n",
       "      <td>6</td>\n",
       "      <td>0.8</td>\n",
       "      <td>-17.2854</td>\n",
       "    </tr>\n",
       "    <tr>\n",
       "      <th>8980</th>\n",
       "      <td>8981</td>\n",
       "      <td>CA-2014-108182</td>\n",
       "      <td>2/6/2014</td>\n",
       "      <td>2/10/2014</td>\n",
       "      <td>Second Class</td>\n",
       "      <td>DL-13315</td>\n",
       "      <td>Delfina Latchford</td>\n",
       "      <td>Consumer</td>\n",
       "      <td>United States</td>\n",
       "      <td>Romeoville</td>\n",
       "      <td>...</td>\n",
       "      <td>60441</td>\n",
       "      <td>Central</td>\n",
       "      <td>OFF-BI-10001196</td>\n",
       "      <td>Office Supplies</td>\n",
       "      <td>Binders</td>\n",
       "      <td>Avery Flip-Chart Easel Binder, Black</td>\n",
       "      <td>8.952</td>\n",
       "      <td>2</td>\n",
       "      <td>0.8</td>\n",
       "      <td>-14.7708</td>\n",
       "    </tr>\n",
       "  </tbody>\n",
       "</table>\n",
       "<p>5 rows × 21 columns</p>\n",
       "</div>"
      ],
      "text/plain": [
       "      Row ID        Order ID Order Date   Ship Date       Ship Mode  \\\n",
       "8220    8221  CA-2014-120775  10/3/2014   10/7/2014  Standard Class   \n",
       "8965    8966  CA-2017-106691  11/6/2017  11/12/2017  Standard Class   \n",
       "1103    1104  US-2017-145863  4/21/2017   4/27/2017  Standard Class   \n",
       "4568    4569  CA-2015-111990  11/8/2015  11/13/2015  Standard Class   \n",
       "8980    8981  CA-2014-108182   2/6/2014   2/10/2014    Second Class   \n",
       "\n",
       "     Customer ID       Customer Name   Segment        Country        City  \\\n",
       "8220    RD-19930   Russell D'Ascenzo  Consumer  United States      Dallas   \n",
       "8965    CC-12370  Christopher Conant  Consumer  United States     Houston   \n",
       "1103    RP-19390        Resi Pölking  Consumer  United States     Houston   \n",
       "4568    DB-13660        Duane Benoit  Consumer  United States     Houston   \n",
       "8980    DL-13315   Delfina Latchford  Consumer  United States  Romeoville   \n",
       "\n",
       "      ... Postal Code   Region       Product ID         Category Sub-Category  \\\n",
       "8220  ...       75217  Central  OFF-BI-10002609  Office Supplies      Binders   \n",
       "8965  ...       77070  Central  OFF-BI-10000145  Office Supplies      Binders   \n",
       "1103  ...       77041  Central  OFF-BI-10002049  Office Supplies      Binders   \n",
       "4568  ...       77095  Central  OFF-BI-10003291  Office Supplies      Binders   \n",
       "8980  ...       60441  Central  OFF-BI-10001196  Office Supplies      Binders   \n",
       "\n",
       "                                           Product Name   Sales  Quantity  \\\n",
       "8220      Avery Hidden Tab Dividers for Binding Systems   1.788         3   \n",
       "8965                         Zipper Ring Binder Pockets   1.248         2   \n",
       "1103                          UniKeep View Case Binders   2.934         3   \n",
       "4568  Wilson Jones Leather-Like Binders with DublLoc...  10.476         6   \n",
       "8980               Avery Flip-Chart Easel Binder, Black   8.952         2   \n",
       "\n",
       "      Discount   Profit  \n",
       "8220       0.8  -3.0396  \n",
       "8965       0.8  -1.9344  \n",
       "1103       0.8  -4.9878  \n",
       "4568       0.8 -17.2854  \n",
       "8980       0.8 -14.7708  \n",
       "\n",
       "[5 rows x 21 columns]"
      ]
     },
     "execution_count": 15,
     "metadata": {},
     "output_type": "execute_result"
    }
   ],
   "source": [
    "# d. Desconto (Discount) máximo relativamente alto em 80%, quais são esses casos?\n",
    "data[data['Discount']>=data['Discount'].quantile(0.70)].sort_values('Discount', ascending=False).head()"
   ]
  },
  {
   "cell_type": "markdown",
   "id": "26215b49",
   "metadata": {},
   "source": [
    "## 3. Limpeza dos dados 🧹"
   ]
  },
  {
   "cell_type": "code",
   "execution_count": 16,
   "id": "31c63d2a",
   "metadata": {},
   "outputs": [],
   "source": [
    "# Retirando coluna de Row ID\n",
    "data.drop('Row ID', axis=1, inplace=True)"
   ]
  },
  {
   "cell_type": "code",
   "execution_count": 17,
   "id": "fb3042d7",
   "metadata": {},
   "outputs": [],
   "source": [
    "# Convertendo formato do Order Date para data e adicionando coluna de mes do pedido\n",
    "data['order_month'] = pd.to_datetime(data['Order Date']).dt.to_period('m')"
   ]
  },
  {
   "cell_type": "code",
   "execution_count": 18,
   "id": "6c4589ad",
   "metadata": {},
   "outputs": [
    {
     "data": {
      "text/html": [
       "<div>\n",
       "<style scoped>\n",
       "    .dataframe tbody tr th:only-of-type {\n",
       "        vertical-align: middle;\n",
       "    }\n",
       "\n",
       "    .dataframe tbody tr th {\n",
       "        vertical-align: top;\n",
       "    }\n",
       "\n",
       "    .dataframe thead th {\n",
       "        text-align: right;\n",
       "    }\n",
       "</style>\n",
       "<table border=\"1\" class=\"dataframe\">\n",
       "  <thead>\n",
       "    <tr style=\"text-align: right;\">\n",
       "      <th></th>\n",
       "      <th>Order ID</th>\n",
       "      <th>Order Date</th>\n",
       "      <th>Ship Date</th>\n",
       "      <th>Ship Mode</th>\n",
       "      <th>Customer ID</th>\n",
       "      <th>Customer Name</th>\n",
       "      <th>Segment</th>\n",
       "      <th>Country</th>\n",
       "      <th>City</th>\n",
       "      <th>State</th>\n",
       "      <th>...</th>\n",
       "      <th>Region</th>\n",
       "      <th>Product ID</th>\n",
       "      <th>Category</th>\n",
       "      <th>Sub-Category</th>\n",
       "      <th>Product Name</th>\n",
       "      <th>Sales</th>\n",
       "      <th>Quantity</th>\n",
       "      <th>Discount</th>\n",
       "      <th>Profit</th>\n",
       "      <th>order_month</th>\n",
       "    </tr>\n",
       "  </thead>\n",
       "  <tbody>\n",
       "    <tr>\n",
       "      <th>0</th>\n",
       "      <td>CA-2016-152156</td>\n",
       "      <td>11/8/2016</td>\n",
       "      <td>11/11/2016</td>\n",
       "      <td>Second Class</td>\n",
       "      <td>CG-12520</td>\n",
       "      <td>Claire Gute</td>\n",
       "      <td>Consumer</td>\n",
       "      <td>United States</td>\n",
       "      <td>Henderson</td>\n",
       "      <td>Kentucky</td>\n",
       "      <td>...</td>\n",
       "      <td>South</td>\n",
       "      <td>FUR-BO-10001798</td>\n",
       "      <td>Furniture</td>\n",
       "      <td>Bookcases</td>\n",
       "      <td>Bush Somerset Collection Bookcase</td>\n",
       "      <td>261.9600</td>\n",
       "      <td>2</td>\n",
       "      <td>0.00</td>\n",
       "      <td>41.9136</td>\n",
       "      <td>2016-11</td>\n",
       "    </tr>\n",
       "    <tr>\n",
       "      <th>1</th>\n",
       "      <td>CA-2016-152156</td>\n",
       "      <td>11/8/2016</td>\n",
       "      <td>11/11/2016</td>\n",
       "      <td>Second Class</td>\n",
       "      <td>CG-12520</td>\n",
       "      <td>Claire Gute</td>\n",
       "      <td>Consumer</td>\n",
       "      <td>United States</td>\n",
       "      <td>Henderson</td>\n",
       "      <td>Kentucky</td>\n",
       "      <td>...</td>\n",
       "      <td>South</td>\n",
       "      <td>FUR-CH-10000454</td>\n",
       "      <td>Furniture</td>\n",
       "      <td>Chairs</td>\n",
       "      <td>Hon Deluxe Fabric Upholstered Stacking Chairs,...</td>\n",
       "      <td>731.9400</td>\n",
       "      <td>3</td>\n",
       "      <td>0.00</td>\n",
       "      <td>219.5820</td>\n",
       "      <td>2016-11</td>\n",
       "    </tr>\n",
       "    <tr>\n",
       "      <th>2</th>\n",
       "      <td>CA-2016-138688</td>\n",
       "      <td>6/12/2016</td>\n",
       "      <td>6/16/2016</td>\n",
       "      <td>Second Class</td>\n",
       "      <td>DV-13045</td>\n",
       "      <td>Darrin Van Huff</td>\n",
       "      <td>Corporate</td>\n",
       "      <td>United States</td>\n",
       "      <td>Los Angeles</td>\n",
       "      <td>California</td>\n",
       "      <td>...</td>\n",
       "      <td>West</td>\n",
       "      <td>OFF-LA-10000240</td>\n",
       "      <td>Office Supplies</td>\n",
       "      <td>Labels</td>\n",
       "      <td>Self-Adhesive Address Labels for Typewriters b...</td>\n",
       "      <td>14.6200</td>\n",
       "      <td>2</td>\n",
       "      <td>0.00</td>\n",
       "      <td>6.8714</td>\n",
       "      <td>2016-06</td>\n",
       "    </tr>\n",
       "    <tr>\n",
       "      <th>3</th>\n",
       "      <td>US-2015-108966</td>\n",
       "      <td>10/11/2015</td>\n",
       "      <td>10/18/2015</td>\n",
       "      <td>Standard Class</td>\n",
       "      <td>SO-20335</td>\n",
       "      <td>Sean O'Donnell</td>\n",
       "      <td>Consumer</td>\n",
       "      <td>United States</td>\n",
       "      <td>Fort Lauderdale</td>\n",
       "      <td>Florida</td>\n",
       "      <td>...</td>\n",
       "      <td>South</td>\n",
       "      <td>FUR-TA-10000577</td>\n",
       "      <td>Furniture</td>\n",
       "      <td>Tables</td>\n",
       "      <td>Bretford CR4500 Series Slim Rectangular Table</td>\n",
       "      <td>957.5775</td>\n",
       "      <td>5</td>\n",
       "      <td>0.45</td>\n",
       "      <td>-383.0310</td>\n",
       "      <td>2015-10</td>\n",
       "    </tr>\n",
       "    <tr>\n",
       "      <th>4</th>\n",
       "      <td>US-2015-108966</td>\n",
       "      <td>10/11/2015</td>\n",
       "      <td>10/18/2015</td>\n",
       "      <td>Standard Class</td>\n",
       "      <td>SO-20335</td>\n",
       "      <td>Sean O'Donnell</td>\n",
       "      <td>Consumer</td>\n",
       "      <td>United States</td>\n",
       "      <td>Fort Lauderdale</td>\n",
       "      <td>Florida</td>\n",
       "      <td>...</td>\n",
       "      <td>South</td>\n",
       "      <td>OFF-ST-10000760</td>\n",
       "      <td>Office Supplies</td>\n",
       "      <td>Storage</td>\n",
       "      <td>Eldon Fold 'N Roll Cart System</td>\n",
       "      <td>22.3680</td>\n",
       "      <td>2</td>\n",
       "      <td>0.20</td>\n",
       "      <td>2.5164</td>\n",
       "      <td>2015-10</td>\n",
       "    </tr>\n",
       "  </tbody>\n",
       "</table>\n",
       "<p>5 rows × 21 columns</p>\n",
       "</div>"
      ],
      "text/plain": [
       "         Order ID  Order Date   Ship Date       Ship Mode Customer ID  \\\n",
       "0  CA-2016-152156   11/8/2016  11/11/2016    Second Class    CG-12520   \n",
       "1  CA-2016-152156   11/8/2016  11/11/2016    Second Class    CG-12520   \n",
       "2  CA-2016-138688   6/12/2016   6/16/2016    Second Class    DV-13045   \n",
       "3  US-2015-108966  10/11/2015  10/18/2015  Standard Class    SO-20335   \n",
       "4  US-2015-108966  10/11/2015  10/18/2015  Standard Class    SO-20335   \n",
       "\n",
       "     Customer Name    Segment        Country             City       State  \\\n",
       "0      Claire Gute   Consumer  United States        Henderson    Kentucky   \n",
       "1      Claire Gute   Consumer  United States        Henderson    Kentucky   \n",
       "2  Darrin Van Huff  Corporate  United States      Los Angeles  California   \n",
       "3   Sean O'Donnell   Consumer  United States  Fort Lauderdale     Florida   \n",
       "4   Sean O'Donnell   Consumer  United States  Fort Lauderdale     Florida   \n",
       "\n",
       "   ...  Region       Product ID         Category Sub-Category  \\\n",
       "0  ...   South  FUR-BO-10001798        Furniture    Bookcases   \n",
       "1  ...   South  FUR-CH-10000454        Furniture       Chairs   \n",
       "2  ...    West  OFF-LA-10000240  Office Supplies       Labels   \n",
       "3  ...   South  FUR-TA-10000577        Furniture       Tables   \n",
       "4  ...   South  OFF-ST-10000760  Office Supplies      Storage   \n",
       "\n",
       "                                        Product Name     Sales  Quantity  \\\n",
       "0                  Bush Somerset Collection Bookcase  261.9600         2   \n",
       "1  Hon Deluxe Fabric Upholstered Stacking Chairs,...  731.9400         3   \n",
       "2  Self-Adhesive Address Labels for Typewriters b...   14.6200         2   \n",
       "3      Bretford CR4500 Series Slim Rectangular Table  957.5775         5   \n",
       "4                     Eldon Fold 'N Roll Cart System   22.3680         2   \n",
       "\n",
       "   Discount    Profit  order_month  \n",
       "0      0.00   41.9136      2016-11  \n",
       "1      0.00  219.5820      2016-11  \n",
       "2      0.00    6.8714      2016-06  \n",
       "3      0.45 -383.0310      2015-10  \n",
       "4      0.20    2.5164      2015-10  \n",
       "\n",
       "[5 rows x 21 columns]"
      ]
     },
     "execution_count": 18,
     "metadata": {},
     "output_type": "execute_result"
    }
   ],
   "source": [
    "data.head()"
   ]
  },
  {
   "cell_type": "markdown",
   "id": "4e53ef22",
   "metadata": {},
   "source": [
    "## 4. Respondendo os problemas de negócio"
   ]
  },
  {
   "cell_type": "markdown",
   "id": "ac106dfb",
   "metadata": {},
   "source": [
    "Quais variáveis temos para explorar?"
   ]
  },
  {
   "cell_type": "code",
   "execution_count": 19,
   "id": "967083bb",
   "metadata": {},
   "outputs": [
    {
     "name": "stdout",
     "output_type": "stream",
     "text": [
      "Temos 20 variáveis para análise\n"
     ]
    }
   ],
   "source": [
    "variaveis=data.shape[1]-1\n",
    "\n",
    "print('Temos '+str(variaveis)+' variáveis para análise')"
   ]
  },
  {
   "cell_type": "markdown",
   "id": "a5f7d3e0",
   "metadata": {},
   "source": [
    "Quantos pedidos tivemos no total? "
   ]
  },
  {
   "cell_type": "code",
   "execution_count": 20,
   "id": "ffe154f4",
   "metadata": {},
   "outputs": [
    {
     "name": "stdout",
     "output_type": "stream",
     "text": [
      "Temos 5009 pedidos únicos\n"
     ]
    }
   ],
   "source": [
    "pedidos_unicos=data['Order ID'].unique().shape[0]\n",
    "\n",
    "print('Temos '+str(pedidos_unicos)+' pedidos únicos')"
   ]
  },
  {
   "cell_type": "markdown",
   "id": "ab36a5fc",
   "metadata": {},
   "source": [
    "Qual tipo de entrega sai mais?"
   ]
  },
  {
   "cell_type": "code",
   "execution_count": 21,
   "id": "c7fba814",
   "metadata": {},
   "outputs": [
    {
     "data": {
      "text/plain": [
       "True"
      ]
     },
     "execution_count": 21,
     "metadata": {},
     "output_type": "execute_result"
    }
   ],
   "source": [
    "# verificar se o ship mode é o mesmo para cada order id\n",
    "\n",
    "ordens_unicas = len(data['Order ID'].unique())\n",
    "linhas_unicas = len(data[['Order ID','Ship Mode']].drop_duplicates())\n",
    "\n",
    "ordens_unicas==linhas_unicas"
   ]
  },
  {
   "cell_type": "code",
   "execution_count": 22,
   "id": "3a44e55a",
   "metadata": {},
   "outputs": [
    {
     "data": {
      "text/html": [
       "<div>\n",
       "<style scoped>\n",
       "    .dataframe tbody tr th:only-of-type {\n",
       "        vertical-align: middle;\n",
       "    }\n",
       "\n",
       "    .dataframe tbody tr th {\n",
       "        vertical-align: top;\n",
       "    }\n",
       "\n",
       "    .dataframe thead th {\n",
       "        text-align: right;\n",
       "    }\n",
       "</style>\n",
       "<table border=\"1\" class=\"dataframe\">\n",
       "  <thead>\n",
       "    <tr style=\"text-align: right;\">\n",
       "      <th></th>\n",
       "      <th>Order ID</th>\n",
       "    </tr>\n",
       "    <tr>\n",
       "      <th>Ship Mode</th>\n",
       "      <th></th>\n",
       "    </tr>\n",
       "  </thead>\n",
       "  <tbody>\n",
       "    <tr>\n",
       "      <th>First Class</th>\n",
       "      <td>787</td>\n",
       "    </tr>\n",
       "    <tr>\n",
       "      <th>Same Day</th>\n",
       "      <td>264</td>\n",
       "    </tr>\n",
       "    <tr>\n",
       "      <th>Second Class</th>\n",
       "      <td>964</td>\n",
       "    </tr>\n",
       "    <tr>\n",
       "      <th>Standard Class</th>\n",
       "      <td>2994</td>\n",
       "    </tr>\n",
       "  </tbody>\n",
       "</table>\n",
       "</div>"
      ],
      "text/plain": [
       "                Order ID\n",
       "Ship Mode               \n",
       "First Class          787\n",
       "Same Day             264\n",
       "Second Class         964\n",
       "Standard Class      2994"
      ]
     },
     "execution_count": 22,
     "metadata": {},
     "output_type": "execute_result"
    }
   ],
   "source": [
    "data[['Order ID','Ship Mode']].drop_duplicates().groupby('Ship Mode').count()"
   ]
  },
  {
   "cell_type": "markdown",
   "id": "c7fc4a9a",
   "metadata": {},
   "source": [
    "**Qual é a situação atual da empresa? (Venda e Lucro)**"
   ]
  },
  {
   "cell_type": "code",
   "execution_count": 23,
   "id": "3e050ad6",
   "metadata": {},
   "outputs": [],
   "source": [
    "# Convertendo formato do Order Date para data e adicionando coluna de ano do pedido\n",
    "data['order_year'] = pd.to_datetime(data['Order Date']).dt.to_period('y')"
   ]
  },
  {
   "cell_type": "code",
   "execution_count": 24,
   "id": "8b500906",
   "metadata": {},
   "outputs": [
    {
     "data": {
      "text/plain": [
       "order_month\n",
       "2014-01     14236.8950\n",
       "2014-02      4519.8920\n",
       "2014-03     55691.0090\n",
       "2014-04     28295.3450\n",
       "2014-05     23648.2870\n",
       "2014-06     34595.1276\n",
       "2014-07     33946.3930\n",
       "2014-08     27909.4685\n",
       "2014-09     81777.3508\n",
       "2014-10     31453.3930\n",
       "2014-11     78628.7167\n",
       "2014-12     69545.6205\n",
       "2015-01     18174.0756\n",
       "2015-02     11951.4110\n",
       "2015-03     38726.2520\n",
       "2015-04     34195.2085\n",
       "2015-05     30131.6865\n",
       "2015-06     24797.2920\n",
       "2015-07     28765.3250\n",
       "2015-08     36898.3322\n",
       "2015-09     64595.9180\n",
       "2015-10     31404.9235\n",
       "2015-11     75972.5635\n",
       "2015-12     74919.5212\n",
       "2016-01     18542.4910\n",
       "2016-02     22978.8150\n",
       "2016-03     51715.8750\n",
       "2016-04     38750.0390\n",
       "2016-05     56987.7280\n",
       "2016-06     40344.5340\n",
       "2016-07     39261.9630\n",
       "2016-08     31115.3743\n",
       "2016-09     73410.0249\n",
       "2016-10     59687.7450\n",
       "2016-11     79411.9658\n",
       "2016-12     96999.0430\n",
       "2017-01     43971.3740\n",
       "2017-02     20301.1334\n",
       "2017-03     58872.3528\n",
       "2017-04     36521.5361\n",
       "2017-05     44261.1102\n",
       "2017-06     52981.7257\n",
       "2017-07     45264.4160\n",
       "2017-08     63120.8880\n",
       "2017-09     87866.6520\n",
       "2017-10     77776.9232\n",
       "2017-11    118447.8250\n",
       "2017-12     83829.3188\n",
       "Freq: M, Name: Sales, dtype: float64"
      ]
     },
     "execution_count": 24,
     "metadata": {},
     "output_type": "execute_result"
    }
   ],
   "source": [
    "# Evolução de faturamento por mes\n",
    "data.groupby('order_month')['Sales'].sum()"
   ]
  },
  {
   "cell_type": "code",
   "execution_count": 25,
   "id": "18821f56",
   "metadata": {},
   "outputs": [
    {
     "data": {
      "image/png": "[encoded data removed]",
      "text/plain": [
       "<Figure size 500x400 with 1 Axes>"
      ]
     },
     "metadata": {},
     "output_type": "display_data"
    }
   ],
   "source": [
    "# Evolução de vendas por mes\n",
    "data.groupby('order_month')['Quantity'].sum().plot(color=\"darkblue\",figsize=(5,4), marker=\".\")\n",
    "plt.title(\"Evolução das vendas por mes\", {'fontsize': 12,\n",
    " 'fontweight': 'semibold',\n",
    " 'color': \"darkblue\"})\n",
    "plt.xlabel(\"Mes\")\n",
    "plt.ylabel(\"Quantidade de pedidos\")\n",
    "plt.show()"
   ]
  },
  {
   "cell_type": "markdown",
   "id": "ba8df716",
   "metadata": {},
   "source": [
    "Vemos que há um efeito de sazonalidade entre os meses de Setembro, Novembro e Dezembro. Provavelmente ligado a datas comemorativas e mudança no comportamento de compras (Black Friday/Natal)\n",
    "\n",
    "Por esse motivo pode ser mais vantajoso olhar para a visão anual."
   ]
  },
  {
   "cell_type": "code",
   "execution_count": 26,
   "id": "4b2bfa5a",
   "metadata": {},
   "outputs": [
    {
     "data": {
      "image/png": "[encoded data removed]",
      "text/plain": [
       "<Figure size 640x480 with 1 Axes>"
      ]
     },
     "metadata": {},
     "output_type": "display_data"
    }
   ],
   "source": [
    "# Evolução de vendas por ano\n",
    "data.groupby(\"order_year\")['Sales'].sum().plot(color=\"darkblue\", lw=2)\n",
    "plt.title(\"Evolução das vendas por ano\", {'fontsize': 12,\n",
    " 'fontweight': 'semibold',\n",
    " 'color': \"darkblue\"})\n",
    "plt.xlabel(\"Ano\")\n",
    "plt.ylabel(\"Faturamento\")\n",
    "plt.show()"
   ]
  },
  {
   "cell_type": "code",
   "execution_count": 27,
   "id": "2790071d",
   "metadata": {},
   "outputs": [
    {
     "data": {
      "image/png": "[encoded data removed]",
      "text/plain": [
       "<Figure size 640x480 with 1 Axes>"
      ]
     },
     "metadata": {},
     "output_type": "display_data"
    }
   ],
   "source": [
    "data.groupby(\"order_year\")['Quantity'].sum().plot(color=\"darkblue\", lw=2)\n",
    "plt.title(\"Evolução das vendas por ano\", {'fontsize': 12,\n",
    " 'fontweight': 'semibold',\n",
    " 'color': \"darkblue\"})\n",
    "plt.xlabel(\"Ano\")\n",
    "plt.ylabel(\"Quantidade de pedidos\")\n",
    "plt.show()"
   ]
  },
  {
   "cell_type": "code",
   "execution_count": 28,
   "id": "cd74d749",
   "metadata": {},
   "outputs": [
    {
     "data": {
      "image/png": "[encoded data removed]",
      "text/plain": [
       "<Figure size 640x480 with 1 Axes>"
      ]
     },
     "metadata": {},
     "output_type": "display_data"
    }
   ],
   "source": [
    "data.groupby(\"order_year\")['Profit'].sum().plot(color=\"darkblue\", lw=2)\n",
    "plt.title(\"Evolução do lucro por ano\", {'fontsize': 12,\n",
    " 'fontweight': 'semibold',\n",
    " 'color': \"darkblue\"})\n",
    "plt.xlabel(\"Ano\")\n",
    "plt.ylabel(\"Lucro\")\n",
    "plt.show()"
   ]
  },
  {
   "cell_type": "markdown",
   "id": "5fa34f7e",
   "metadata": {},
   "source": [
    "**Segmentos mais pedidos**"
   ]
  },
  {
   "cell_type": "code",
   "execution_count": 29,
   "id": "9d7bc2f5",
   "metadata": {},
   "outputs": [
    {
     "data": {
      "image/png": "[encoded data removed]",
      "text/plain": [
       "<Figure size 640x480 with 1 Axes>"
      ]
     },
     "metadata": {},
     "output_type": "display_data"
    }
   ],
   "source": [
    "color=[\"blue\",\"dodgerblue\",\"skyblue\"]\n",
    "\n",
    "def make_autopct(values):\n",
    "    def my_autopct(pct):\n",
    "        total = sum(values)\n",
    "        val = int(round(pct*total/100.0))\n",
    "        return '{p:.2f}%  ({v:d})'.format(p=pct,v=val)\n",
    "    return my_autopct\n",
    "\n",
    "plt.pie(data.groupby('Segment')['Profit'].sum(), colors=color, \n",
    "        labels=data.groupby('Segment')['Profit'].sum().index,\n",
    "       autopct=make_autopct(data.groupby('Segment')['Profit'].sum())\n",
    "       )\n",
    "\n",
    "plt.show()"
   ]
  },
  {
   "cell_type": "code",
   "execution_count": 30,
   "id": "d4db72e5",
   "metadata": {},
   "outputs": [
    {
     "data": {
      "text/plain": [
       "Segment\n",
       "Consumer       6.870509\n",
       "Corporate      7.923771\n",
       "Home Office    8.941085\n",
       "dtype: float64"
      ]
     },
     "execution_count": 30,
     "metadata": {},
     "output_type": "execute_result"
    }
   ],
   "source": [
    "# calculando o lucro por quantidade\n",
    "data.groupby('Segment')['Profit'].sum()/data.groupby('Segment')['Quantity'].sum()"
   ]
  },
  {
   "cell_type": "markdown",
   "id": "e9f0bfc4",
   "metadata": {},
   "source": [
    "O segmento Consumer gera maior lucro devido a quantidade de vendas ser maior também. Se considerarmos o lucro por venda, o segmento de Home Office ganha. \n",
    "Portanto, investir no segmento de Home Office pode aumentar o lucro da empresa."
   ]
  },
  {
   "cell_type": "markdown",
   "id": "73473c55",
   "metadata": {},
   "source": [
    "**Regiões com mais receita e lucro**"
   ]
  },
  {
   "cell_type": "code",
   "execution_count": 31,
   "id": "dd4de74a",
   "metadata": {
    "scrolled": true
   },
   "outputs": [
    {
     "data": {
      "text/html": [
       "<div>\n",
       "<style scoped>\n",
       "    .dataframe tbody tr th:only-of-type {\n",
       "        vertical-align: middle;\n",
       "    }\n",
       "\n",
       "    .dataframe tbody tr th {\n",
       "        vertical-align: top;\n",
       "    }\n",
       "\n",
       "    .dataframe thead th {\n",
       "        text-align: right;\n",
       "    }\n",
       "</style>\n",
       "<table border=\"1\" class=\"dataframe\">\n",
       "  <thead>\n",
       "    <tr style=\"text-align: right;\">\n",
       "      <th></th>\n",
       "      <th>Quantity</th>\n",
       "      <th>Sales</th>\n",
       "      <th>Profit</th>\n",
       "    </tr>\n",
       "    <tr>\n",
       "      <th>Region</th>\n",
       "      <th></th>\n",
       "      <th></th>\n",
       "      <th></th>\n",
       "    </tr>\n",
       "  </thead>\n",
       "  <tbody>\n",
       "    <tr>\n",
       "      <th>Central</th>\n",
       "      <td>8780</td>\n",
       "      <td>501239.8908</td>\n",
       "      <td>39706.3625</td>\n",
       "    </tr>\n",
       "    <tr>\n",
       "      <th>East</th>\n",
       "      <td>10618</td>\n",
       "      <td>678781.2400</td>\n",
       "      <td>91522.7800</td>\n",
       "    </tr>\n",
       "    <tr>\n",
       "      <th>South</th>\n",
       "      <td>6209</td>\n",
       "      <td>391721.9050</td>\n",
       "      <td>46749.4303</td>\n",
       "    </tr>\n",
       "    <tr>\n",
       "      <th>West</th>\n",
       "      <td>12266</td>\n",
       "      <td>725457.8245</td>\n",
       "      <td>108418.4489</td>\n",
       "    </tr>\n",
       "  </tbody>\n",
       "</table>\n",
       "</div>"
      ],
      "text/plain": [
       "         Quantity        Sales       Profit\n",
       "Region                                     \n",
       "Central      8780  501239.8908   39706.3625\n",
       "East        10618  678781.2400   91522.7800\n",
       "South        6209  391721.9050   46749.4303\n",
       "West        12266  725457.8245  108418.4489"
      ]
     },
     "execution_count": 31,
     "metadata": {},
     "output_type": "execute_result"
    }
   ],
   "source": [
    "data.groupby(\"Region\")[['Quantity','Sales','Profit']].sum()"
   ]
  },
  {
   "cell_type": "code",
   "execution_count": 32,
   "id": "d5f5556f",
   "metadata": {
    "scrolled": true
   },
   "outputs": [
    {
     "data": {
      "image/png": "[encoded data removed]",
      "text/plain": [
       "<Figure size 640x480 with 1 Axes>"
      ]
     },
     "metadata": {},
     "output_type": "display_data"
    }
   ],
   "source": [
    "# criando visão de Vendas em gráfico de barra\n",
    "categorias=data.groupby(\"Region\")[['Quantity','Sales','Profit']].sum()\n",
    "plt.bar(categorias['Quantity'].index, categorias['Quantity'].values, width=0.8, color=\"darkblue\")\n",
    "plt.ylabel(\"Quantity\")\n",
    "plt.title(\"Quantidade vendida por região\", {'fontsize': 12,\n",
    " 'fontweight': 'semibold',\n",
    " 'color': \"darkblue\"})\n",
    "plt.show()"
   ]
  },
  {
   "cell_type": "code",
   "execution_count": 33,
   "id": "2c1129ab",
   "metadata": {},
   "outputs": [
    {
     "data": {
      "image/png": "[encoded data removed]",
      "text/plain": [
       "<Figure size 640x480 with 1 Axes>"
      ]
     },
     "metadata": {},
     "output_type": "display_data"
    }
   ],
   "source": [
    "# criando visão do Lucro em gráfico de barra\n",
    "categorias=data.groupby(\"Region\")[['Quantity','Sales','Profit']].sum()\n",
    "plt.bar(categorias['Quantity'].index, categorias['Quantity'].values, width=0.8, color=\"darkblue\")\n",
    "plt.ylabel(\"Profit\")\n",
    "plt.title(\"Lucro por região\", {'fontsize': 12,\n",
    " 'fontweight': 'semibold',\n",
    " 'color': \"darkblue\"})\n",
    "plt.show()"
   ]
  },
  {
   "cell_type": "code",
   "execution_count": 34,
   "id": "07416b31",
   "metadata": {},
   "outputs": [
    {
     "data": {
      "text/plain": [
       "<Axes: xlabel='order_year'>"
      ]
     },
     "execution_count": 34,
     "metadata": {},
     "output_type": "execute_result"
    },
    {
     "data": {
      "image/png": "[encoded data removed]",
      "text/plain": [
       "<Figure size 640x480 with 1 Axes>"
      ]
     },
     "metadata": {},
     "output_type": "display_data"
    }
   ],
   "source": [
    "# verificando se a tendencia se mantem ao longo do tempo - Faturamento\n",
    "data.groupby([\"order_year\",\"Region\"])['Sales'].sum().unstack().plot()"
   ]
  },
  {
   "cell_type": "code",
   "execution_count": null,
   "id": "525a0fc6",
   "metadata": {},
   "outputs": [],
   "source": []
  },
  {
   "cell_type": "code",
   "execution_count": 35,
   "id": "e6558063",
   "metadata": {},
   "outputs": [
    {
     "data": {
      "text/plain": [
       "<Axes: xlabel='order_year'>"
      ]
     },
     "execution_count": 35,
     "metadata": {},
     "output_type": "execute_result"
    },
    {
     "data": {
      "image/png": "[encoded data removed]",
      "text/plain": [
       "<Figure size 640x480 with 1 Axes>"
      ]
     },
     "metadata": {},
     "output_type": "display_data"
    }
   ],
   "source": [
    "# verificando se a tendencia se mantem ao longo do tempo - Lucro\n",
    "data.groupby([\"order_year\",\"Region\"])['Profit'].sum().unstack().plot()"
   ]
  },
  {
   "cell_type": "markdown",
   "id": "888309e3",
   "metadata": {},
   "source": [
    "## Categorias mais lucrativas"
   ]
  },
  {
   "cell_type": "markdown",
   "id": "04500653",
   "metadata": {},
   "source": [
    "As regiões mais lucrativas são East e West. Tendencia se mantem ao longo dos anos."
   ]
  },
  {
   "cell_type": "code",
   "execution_count": 36,
   "id": "53382103",
   "metadata": {},
   "outputs": [],
   "source": [
    "# convertendo order_year em valor numerico e filtrando os anos de 2016 e 2017\n",
    "data[\"Order Year N\"]=data[\"order_year\"].astype('int64')\n",
    "\n",
    "data_recente=data[data[\"Order Year N\"]>=46]"
   ]
  },
  {
   "cell_type": "code",
   "execution_count": 37,
   "id": "4e49848a",
   "metadata": {},
   "outputs": [
    {
     "data": {
      "text/plain": [
       "Category\n",
       "Technology         90458.2486\n",
       "Office Supplies    74797.8509\n",
       "Furniture           9978.3444\n",
       "Name: Profit, dtype: float64"
      ]
     },
     "execution_count": 37,
     "metadata": {},
     "output_type": "execute_result"
    }
   ],
   "source": [
    "data_recente.groupby(\"Category\")[\"Profit\"].sum().sort_values(ascending=False)"
   ]
  },
  {
   "cell_type": "code",
   "execution_count": 38,
   "id": "60b30a93",
   "metadata": {},
   "outputs": [
    {
     "data": {
      "text/plain": [
       "Category\n",
       "Technology         22.27487\n",
       "Office Supplies     5.49096\n",
       "Furniture           2.15515\n",
       "dtype: float64"
      ]
     },
     "execution_count": 38,
     "metadata": {},
     "output_type": "execute_result"
    }
   ],
   "source": [
    "# calculando o lucro por unidade vendida por categoria (total lucro/total unidade vendida)\n",
    "total_lucro=data_recente.groupby(\"Category\")[\"Profit\"].sum()\n",
    "total_vendas=data_recente.groupby(\"Category\")[\"Quantity\"].sum()\n",
    "(total_lucro/total_vendas).sort_values(ascending=False)"
   ]
  },
  {
   "cell_type": "markdown",
   "id": "bbb7bf32",
   "metadata": {},
   "source": [
    "Categoria de Tecnologia é a mais lucrativa, podendo ser uma boa oportunidade para investir."
   ]
  },
  {
   "cell_type": "markdown",
   "id": "cd6ec0cc",
   "metadata": {},
   "source": [
    "**Dentro da categoria de Technology, qual são as subcategorias mais relevantes?**"
   ]
  },
  {
   "cell_type": "code",
   "execution_count": 39,
   "id": "6500e633",
   "metadata": {},
   "outputs": [],
   "source": [
    "# agrupando os dados por sub categoria\n",
    "data_tech=data_recente[data_recente[\"Category\"]==\"Technology\"].groupby(\"Sub-Category\")[[\"Sales\",\"Quantity\",\"Profit\"]].sum()"
   ]
  },
  {
   "cell_type": "code",
   "execution_count": 40,
   "id": "30793039",
   "metadata": {
    "scrolled": true
   },
   "outputs": [
    {
     "data": {
      "text/html": [
       "<div>\n",
       "<style scoped>\n",
       "    .dataframe tbody tr th:only-of-type {\n",
       "        vertical-align: middle;\n",
       "    }\n",
       "\n",
       "    .dataframe tbody tr th {\n",
       "        vertical-align: top;\n",
       "    }\n",
       "\n",
       "    .dataframe thead th {\n",
       "        text-align: right;\n",
       "    }\n",
       "</style>\n",
       "<table border=\"1\" class=\"dataframe\">\n",
       "  <thead>\n",
       "    <tr style=\"text-align: right;\">\n",
       "      <th></th>\n",
       "      <th>Sales</th>\n",
       "      <th>Quantity</th>\n",
       "      <th>Profit</th>\n",
       "      <th>Profit Per Quantity</th>\n",
       "    </tr>\n",
       "    <tr>\n",
       "      <th>Sub-Category</th>\n",
       "      <th></th>\n",
       "      <th></th>\n",
       "      <th></th>\n",
       "      <th></th>\n",
       "    </tr>\n",
       "  </thead>\n",
       "  <tbody>\n",
       "    <tr>\n",
       "      <th>Accessories</th>\n",
       "      <td>101842.086</td>\n",
       "      <td>1761</td>\n",
       "      <td>25336.6455</td>\n",
       "      <td>14.387647</td>\n",
       "    </tr>\n",
       "    <tr>\n",
       "      <th>Copiers</th>\n",
       "      <td>112498.798</td>\n",
       "      <td>142</td>\n",
       "      <td>42774.5828</td>\n",
       "      <td>301.229456</td>\n",
       "    </tr>\n",
       "    <tr>\n",
       "      <th>Machines</th>\n",
       "      <td>99451.561</td>\n",
       "      <td>250</td>\n",
       "      <td>38.1024</td>\n",
       "      <td>0.152410</td>\n",
       "    </tr>\n",
       "    <tr>\n",
       "      <th>Phones</th>\n",
       "      <td>184302.546</td>\n",
       "      <td>1908</td>\n",
       "      <td>22308.9179</td>\n",
       "      <td>11.692305</td>\n",
       "    </tr>\n",
       "  </tbody>\n",
       "</table>\n",
       "</div>"
      ],
      "text/plain": [
       "                   Sales  Quantity      Profit  Profit Per Quantity\n",
       "Sub-Category                                                       \n",
       "Accessories   101842.086      1761  25336.6455            14.387647\n",
       "Copiers       112498.798       142  42774.5828           301.229456\n",
       "Machines       99451.561       250     38.1024             0.152410\n",
       "Phones        184302.546      1908  22308.9179            11.692305"
      ]
     },
     "execution_count": 40,
     "metadata": {},
     "output_type": "execute_result"
    }
   ],
   "source": [
    "# criando uma nova coluna de lucro por unidade\n",
    "data_tech[\"Profit Per Quantity\"]=data_tech[\"Profit\"]/data_tech[\"Quantity\"]\n",
    "data_tech"
   ]
  },
  {
   "cell_type": "markdown",
   "id": "26402c10",
   "metadata": {},
   "source": [
    "Os sub-segmentos mais lucrativos são Copiadoras e Acessórios. Como segunda análise poderia verificar o potencial de escala de cada sub-segmento."
   ]
  },
  {
   "cell_type": "markdown",
   "id": "8a6a987c",
   "metadata": {},
   "source": [
    "**Qual estado possui mais vendas e lucro?**"
   ]
  },
  {
   "cell_type": "code",
   "execution_count": 41,
   "id": "8114bf14",
   "metadata": {
    "scrolled": true
   },
   "outputs": [
    {
     "data": {
      "text/plain": [
       "State\n",
       "Kentucky       5968.3840\n",
       "Delaware       7029.9107\n",
       "New Jersey     7213.0952\n",
       "Virginia       9657.4876\n",
       "Georgia        9994.4165\n",
       "Indiana       15524.6596\n",
       "Michigan      17480.2806\n",
       "Washington    21466.6555\n",
       "New York      41012.0212\n",
       "California    49372.1750\n",
       "Name: Profit, dtype: float64"
      ]
     },
     "execution_count": 41,
     "metadata": {},
     "output_type": "execute_result"
    }
   ],
   "source": [
    "# Descobrindo os estados mais lucrativos - Top 10\n",
    "top10_profit=data_recente.groupby(\"State\")[\"Profit\"].sum().sort_values(ascending=False).head(10).sort_values(ascending=True)\n",
    "top10_profit"
   ]
  },
  {
   "cell_type": "code",
   "execution_count": 42,
   "id": "30a50b08",
   "metadata": {},
   "outputs": [
    {
     "data": {
      "image/png": "[encoded data removed]",
      "text/plain": [
       "<Figure size 640x480 with 1 Axes>"
      ]
     },
     "metadata": {},
     "output_type": "display_data"
    }
   ],
   "source": [
    "barhs = plt.barh(top10_profit.index, top10_profit.values, color=\"darkblue\")\n",
    "plt.xlabel(\"Lucro( em USD)\")\n",
    "plt.title(\"Estados mais lucrativos\", {'fontsize': 12,\n",
    " 'fontweight': 'semibold',\n",
    " 'color': \"darkblue\"})\n",
    "plt.bar_label(barhs, fmt='%.2f')\n",
    "plt.show()"
   ]
  },
  {
   "cell_type": "markdown",
   "id": "03b38958",
   "metadata": {},
   "source": [
    "**Estados com lucro negativo**"
   ]
  },
  {
   "cell_type": "code",
   "execution_count": 43,
   "id": "d381423d",
   "metadata": {
    "scrolled": true
   },
   "outputs": [
    {
     "data": {
      "text/plain": [
       "State\n",
       "Florida            -227.7465\n",
       "Oregon             -942.9719\n",
       "Arizona           -2761.1100\n",
       "Tennessee         -3467.5906\n",
       "North Carolina    -4827.6923\n",
       "Colorado          -5824.9809\n",
       "Pennsylvania      -9297.7975\n",
       "Ohio              -9339.4223\n",
       "Illinois          -9554.6539\n",
       "Texas            -14078.1598\n",
       "Name: Profit, dtype: float64"
      ]
     },
     "execution_count": 43,
     "metadata": {},
     "output_type": "execute_result"
    }
   ],
   "source": [
    "data_recente.groupby(\"State\")[\"Profit\"].sum().sort_values(ascending=False).tail(10)"
   ]
  },
  {
   "cell_type": "code",
   "execution_count": 44,
   "id": "3b5aeeb9",
   "metadata": {},
   "outputs": [
    {
     "data": {
      "text/plain": [
       "State\n",
       "California      277940.2560\n",
       "New York        165767.0970\n",
       "Washington       85354.1800\n",
       "Texas            85107.9102\n",
       "Pennsylvania     75754.9500\n",
       "Michigan         53253.6840\n",
       "Ohio             48012.8600\n",
       "Illinois         45385.3300\n",
       "Indiana          43978.2300\n",
       "Florida          40047.9990\n",
       "Name: Sales, dtype: float64"
      ]
     },
     "execution_count": 44,
     "metadata": {},
     "output_type": "execute_result"
    }
   ],
   "source": [
    "# Descobrindo os estados com mais faturamento - Top 10\n",
    "data_recente.groupby(\"State\")[\"Sales\"].sum().sort_values(ascending=False).head(10)"
   ]
  },
  {
   "cell_type": "code",
   "execution_count": 45,
   "id": "e1c5882f",
   "metadata": {},
   "outputs": [
    {
     "data": {
      "text/html": [
       "<div>\n",
       "<style scoped>\n",
       "    .dataframe tbody tr th:only-of-type {\n",
       "        vertical-align: middle;\n",
       "    }\n",
       "\n",
       "    .dataframe tbody tr th {\n",
       "        vertical-align: top;\n",
       "    }\n",
       "\n",
       "    .dataframe thead th {\n",
       "        text-align: right;\n",
       "    }\n",
       "</style>\n",
       "<table border=\"1\" class=\"dataframe\">\n",
       "  <thead>\n",
       "    <tr style=\"text-align: right;\">\n",
       "      <th></th>\n",
       "      <th>Sales</th>\n",
       "      <th>Quantity</th>\n",
       "      <th>Discount</th>\n",
       "      <th>Profit</th>\n",
       "    </tr>\n",
       "    <tr>\n",
       "      <th>State</th>\n",
       "      <th></th>\n",
       "      <th></th>\n",
       "      <th></th>\n",
       "      <th></th>\n",
       "    </tr>\n",
       "  </thead>\n",
       "  <tbody>\n",
       "    <tr>\n",
       "      <th>Illinois</th>\n",
       "      <td>154.898737</td>\n",
       "      <td>3.648464</td>\n",
       "      <td>0.387372</td>\n",
       "      <td>-32.609740</td>\n",
       "    </tr>\n",
       "    <tr>\n",
       "      <th>Texas</th>\n",
       "      <td>150.633469</td>\n",
       "      <td>3.819469</td>\n",
       "      <td>0.364673</td>\n",
       "      <td>-24.917097</td>\n",
       "    </tr>\n",
       "    <tr>\n",
       "      <th>Pennsylvania</th>\n",
       "      <td>226.134179</td>\n",
       "      <td>3.662687</td>\n",
       "      <td>0.334328</td>\n",
       "      <td>-27.754619</td>\n",
       "    </tr>\n",
       "    <tr>\n",
       "      <th>Colorado</th>\n",
       "      <td>185.544726</td>\n",
       "      <td>3.646018</td>\n",
       "      <td>0.326549</td>\n",
       "      <td>-51.548504</td>\n",
       "    </tr>\n",
       "    <tr>\n",
       "      <th>Arizona</th>\n",
       "      <td>153.765982</td>\n",
       "      <td>3.663717</td>\n",
       "      <td>0.324779</td>\n",
       "      <td>-24.434602</td>\n",
       "    </tr>\n",
       "    <tr>\n",
       "      <th>Oregon</th>\n",
       "      <td>128.268154</td>\n",
       "      <td>3.753846</td>\n",
       "      <td>0.321538</td>\n",
       "      <td>-14.507260</td>\n",
       "    </tr>\n",
       "    <tr>\n",
       "      <th>Ohio</th>\n",
       "      <td>163.866416</td>\n",
       "      <td>3.754266</td>\n",
       "      <td>0.318089</td>\n",
       "      <td>-31.875161</td>\n",
       "    </tr>\n",
       "    <tr>\n",
       "      <th>Florida</th>\n",
       "      <td>188.905656</td>\n",
       "      <td>3.570755</td>\n",
       "      <td>0.297406</td>\n",
       "      <td>-1.074276</td>\n",
       "    </tr>\n",
       "    <tr>\n",
       "      <th>Tennessee</th>\n",
       "      <td>160.369308</td>\n",
       "      <td>3.641667</td>\n",
       "      <td>0.291667</td>\n",
       "      <td>-28.896588</td>\n",
       "    </tr>\n",
       "    <tr>\n",
       "      <th>North Carolina</th>\n",
       "      <td>241.661164</td>\n",
       "      <td>3.930818</td>\n",
       "      <td>0.283648</td>\n",
       "      <td>-30.362845</td>\n",
       "    </tr>\n",
       "  </tbody>\n",
       "</table>\n",
       "</div>"
      ],
      "text/plain": [
       "                     Sales  Quantity  Discount     Profit\n",
       "State                                                    \n",
       "Illinois        154.898737  3.648464  0.387372 -32.609740\n",
       "Texas           150.633469  3.819469  0.364673 -24.917097\n",
       "Pennsylvania    226.134179  3.662687  0.334328 -27.754619\n",
       "Colorado        185.544726  3.646018  0.326549 -51.548504\n",
       "Arizona         153.765982  3.663717  0.324779 -24.434602\n",
       "Oregon          128.268154  3.753846  0.321538 -14.507260\n",
       "Ohio            163.866416  3.754266  0.318089 -31.875161\n",
       "Florida         188.905656  3.570755  0.297406  -1.074276\n",
       "Tennessee       160.369308  3.641667  0.291667 -28.896588\n",
       "North Carolina  241.661164  3.930818  0.283648 -30.362845"
      ]
     },
     "execution_count": 45,
     "metadata": {},
     "output_type": "execute_result"
    }
   ],
   "source": [
    "# investigando mais a fundo o motivo dos estados Texas, Pennsylvania, Ohio, Illinois, Florida estarem como mais vendidos mas com lucro negativo\n",
    "data_recente.groupby(\"State\")[[\"Sales\",\"Quantity\",\"Discount\",\"Profit\"]].mean().sort_values(\"Discount\", ascending=False).head(10)"
   ]
  },
  {
   "cell_type": "markdown",
   "id": "aaf17ab3",
   "metadata": {},
   "source": [
    "Apesar de estarem entre os estados que mais vendem, os estados de Texas, Pennsylvania, Ohio, Illinois, Florida são os que mais oferecem desconto, não podemos dizer se há maior demanda nos estados ou se é por conta dos descontos."
   ]
  },
  {
   "cell_type": "markdown",
   "id": "a14e8663",
   "metadata": {},
   "source": [
    "Em resumo, os estados de California, New York e Washington são os mais lucrativos."
   ]
  },
  {
   "cell_type": "code",
   "execution_count": 46,
   "id": "55b7a388",
   "metadata": {},
   "outputs": [
    {
     "data": {
      "text/html": [
       "<div>\n",
       "<style scoped>\n",
       "    .dataframe tbody tr th:only-of-type {\n",
       "        vertical-align: middle;\n",
       "    }\n",
       "\n",
       "    .dataframe tbody tr th {\n",
       "        vertical-align: top;\n",
       "    }\n",
       "\n",
       "    .dataframe thead th {\n",
       "        text-align: right;\n",
       "    }\n",
       "</style>\n",
       "<table border=\"1\" class=\"dataframe\">\n",
       "  <thead>\n",
       "    <tr style=\"text-align: right;\">\n",
       "      <th></th>\n",
       "      <th>Sales</th>\n",
       "      <th>Profit</th>\n",
       "      <th>Quantity</th>\n",
       "      <th>Discount</th>\n",
       "    </tr>\n",
       "  </thead>\n",
       "  <tbody>\n",
       "    <tr>\n",
       "      <th>Sales</th>\n",
       "      <td>1.000000</td>\n",
       "      <td>0.479064</td>\n",
       "      <td>0.200795</td>\n",
       "      <td>-0.028190</td>\n",
       "    </tr>\n",
       "    <tr>\n",
       "      <th>Profit</th>\n",
       "      <td>0.479064</td>\n",
       "      <td>1.000000</td>\n",
       "      <td>0.066253</td>\n",
       "      <td>-0.219487</td>\n",
       "    </tr>\n",
       "    <tr>\n",
       "      <th>Quantity</th>\n",
       "      <td>0.200795</td>\n",
       "      <td>0.066253</td>\n",
       "      <td>1.000000</td>\n",
       "      <td>0.008623</td>\n",
       "    </tr>\n",
       "    <tr>\n",
       "      <th>Discount</th>\n",
       "      <td>-0.028190</td>\n",
       "      <td>-0.219487</td>\n",
       "      <td>0.008623</td>\n",
       "      <td>1.000000</td>\n",
       "    </tr>\n",
       "  </tbody>\n",
       "</table>\n",
       "</div>"
      ],
      "text/plain": [
       "             Sales    Profit  Quantity  Discount\n",
       "Sales     1.000000  0.479064  0.200795 -0.028190\n",
       "Profit    0.479064  1.000000  0.066253 -0.219487\n",
       "Quantity  0.200795  0.066253  1.000000  0.008623\n",
       "Discount -0.028190 -0.219487  0.008623  1.000000"
      ]
     },
     "execution_count": 46,
     "metadata": {},
     "output_type": "execute_result"
    }
   ],
   "source": [
    "# análise de correlação\n",
    "correlation = data[['Sales', 'Profit', 'Quantity', 'Discount']].corr()\n",
    "correlation"
   ]
  },
  {
   "cell_type": "code",
   "execution_count": 47,
   "id": "e5da8b10",
   "metadata": {},
   "outputs": [
    {
     "data": {
      "text/plain": [
       "<Axes: >"
      ]
     },
     "execution_count": 47,
     "metadata": {},
     "output_type": "execute_result"
    },
    {
     "data": {
      "image/png": "[encoded data removed]",
      "text/plain": [
       "<Figure size 640x480 with 2 Axes>"
      ]
     },
     "metadata": {},
     "output_type": "display_data"
    }
   ],
   "source": [
    "# plot da matriz de correlação\n",
    "plot = sns.heatmap(correlation, annot = True, fmt=\".1f\", linewidths=.6)\n",
    "plot"
   ]
  },
  {
   "cell_type": "markdown",
   "id": "df3594a4",
   "metadata": {},
   "source": [
    "Foi identificado uma baixa correlação negativa entre lucro e desconto e outra positiva entre quantidade de vendas e desconto, não infere causalidade, porém é valido o testar a hipótese de que temos mais vendas por conta da demanda ou se é pelos descontos oferecidos."
   ]
  },
  {
   "cell_type": "markdown",
   "id": "c6e6cf01",
   "metadata": {},
   "source": [
    "**Quais são os clientes mais lucrativos?**"
   ]
  },
  {
   "cell_type": "code",
   "execution_count": 48,
   "id": "931cd333",
   "metadata": {},
   "outputs": [
    {
     "data": {
      "text/plain": [
       "793"
      ]
     },
     "execution_count": 48,
     "metadata": {},
     "output_type": "execute_result"
    }
   ],
   "source": [
    "# contando quantos clientes possuem na base\n",
    "len(data[\"Customer ID\"].unique())"
   ]
  },
  {
   "cell_type": "code",
   "execution_count": 49,
   "id": "7e9f4340",
   "metadata": {},
   "outputs": [
    {
     "data": {
      "text/plain": [
       "Customer Name\n",
       "Tamara Chand            8981.3239\n",
       "Raymond Buch            6976.0959\n",
       "Sanjit Chand            5757.4119\n",
       "Hunter Lopez            5622.4292\n",
       "Adrian Barton           5444.8055\n",
       "Tom Ashbrook            4703.7883\n",
       "Christopher Martinez    3899.8904\n",
       "Keith Dawkins           3038.6254\n",
       "Andy Reiter             2884.6208\n",
       "Daniel Raglin           2869.0760\n",
       "Name: Profit, dtype: float64"
      ]
     },
     "execution_count": 49,
     "metadata": {},
     "output_type": "execute_result"
    }
   ],
   "source": [
    "data.groupby(\"Customer Name\")[\"Profit\"].sum().sort_values(ascending=False).head(10)"
   ]
  },
  {
   "cell_type": "markdown",
   "id": "b1a345af",
   "metadata": {},
   "source": [
    "### Analise de pareto"
   ]
  },
  {
   "cell_type": "markdown",
   "id": "1160db25",
   "metadata": {},
   "source": [
    "O objetivo da análise é identificar o 20% dos clientes que geram 80% do lucro"
   ]
  },
  {
   "cell_type": "code",
   "execution_count": 50,
   "id": "50007fff",
   "metadata": {},
   "outputs": [
    {
     "data": {
      "text/plain": [
       "0.9002756343956773"
      ]
     },
     "execution_count": 50,
     "metadata": {},
     "output_type": "execute_result"
    }
   ],
   "source": [
    "lucro_clientes=data.groupby(\"Customer Name\")[\"Profit\"].sum().sort_values(ascending=False)\n",
    "\n",
    "# obtendo top 25% dos clientes\n",
    "lucro_clientes.quantile(0.75)\n",
    "top25_clientes=lucro_clientes[lucro_clientes>lucro_clientes.quantile(0.75)]\n",
    "\n",
    "# Esse grupo é responsável por quantos % do lucro total?\n",
    "top25_clientes.sum()/data['Profit'].sum()"
   ]
  },
  {
   "cell_type": "markdown",
   "id": "09cba27b",
   "metadata": {},
   "source": [
    "90% do lucro está concentrado em 25% dos clientes. Um cenário preocupante já que a lucratividade depende destes clientes.\n",
    "Importante ter um tratamento especial com esses clientes ou encontrar novos."
   ]
  }
 ],
 "metadata": {
  "kernelspec": {
   "display_name": "Python 3 (ipykernel)",
   "language": "python",
   "name": "python3"
  },
  "language_info": {
   "codemirror_mode": {
    "name": "ipython",
    "version": 3
   },
   "file_extension": ".py",
   "mimetype": "text/x-python",
   "name": "python",
   "nbconvert_exporter": "python",
   "pygments_lexer": "ipython3",
   "version": "3.11.5"
  }
 },
 "nbformat": 4,
 "nbformat_minor": 5
}
